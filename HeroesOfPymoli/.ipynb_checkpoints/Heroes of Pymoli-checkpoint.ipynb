{
 "cells": [
  {
   "cell_type": "code",
   "execution_count": 131,
   "metadata": {},
   "outputs": [],
   "source": [
    "import pandas as pd\n",
    "import numpy as np\n"
   ]
  },
  {
   "cell_type": "code",
   "execution_count": 132,
   "metadata": {},
   "outputs": [],
   "source": [
    "file_to_load = \"Resources/purchase_data.csv\""
   ]
  },
  {
   "cell_type": "code",
   "execution_count": 133,
   "metadata": {},
   "outputs": [],
   "source": [
    "purchase_data = pd.read_csv(file_to_load)"
   ]
  },
  {
   "cell_type": "code",
   "execution_count": 134,
   "metadata": {},
   "outputs": [
    {
     "data": {
      "text/html": [
       "<div>\n",
       "<style scoped>\n",
       "    .dataframe tbody tr th:only-of-type {\n",
       "        vertical-align: middle;\n",
       "    }\n",
       "\n",
       "    .dataframe tbody tr th {\n",
       "        vertical-align: top;\n",
       "    }\n",
       "\n",
       "    .dataframe thead th {\n",
       "        text-align: right;\n",
       "    }\n",
       "</style>\n",
       "<table border=\"1\" class=\"dataframe\">\n",
       "  <thead>\n",
       "    <tr style=\"text-align: right;\">\n",
       "      <th></th>\n",
       "      <th>Purchase ID</th>\n",
       "      <th>SN</th>\n",
       "      <th>Age</th>\n",
       "      <th>Gender</th>\n",
       "      <th>Item ID</th>\n",
       "      <th>Item Name</th>\n",
       "      <th>Price</th>\n",
       "    </tr>\n",
       "  </thead>\n",
       "  <tbody>\n",
       "    <tr>\n",
       "      <th>0</th>\n",
       "      <td>0</td>\n",
       "      <td>Lisim78</td>\n",
       "      <td>20</td>\n",
       "      <td>Male</td>\n",
       "      <td>108</td>\n",
       "      <td>Extraction, Quickblade Of Trembling Hands</td>\n",
       "      <td>3.53</td>\n",
       "    </tr>\n",
       "    <tr>\n",
       "      <th>1</th>\n",
       "      <td>1</td>\n",
       "      <td>Lisovynya38</td>\n",
       "      <td>40</td>\n",
       "      <td>Male</td>\n",
       "      <td>143</td>\n",
       "      <td>Frenzied Scimitar</td>\n",
       "      <td>1.56</td>\n",
       "    </tr>\n",
       "    <tr>\n",
       "      <th>2</th>\n",
       "      <td>2</td>\n",
       "      <td>Ithergue48</td>\n",
       "      <td>24</td>\n",
       "      <td>Male</td>\n",
       "      <td>92</td>\n",
       "      <td>Final Critic</td>\n",
       "      <td>4.88</td>\n",
       "    </tr>\n",
       "  </tbody>\n",
       "</table>\n",
       "</div>"
      ],
      "text/plain": [
       "   Purchase ID           SN  Age Gender  Item ID  \\\n",
       "0            0      Lisim78   20   Male      108   \n",
       "1            1  Lisovynya38   40   Male      143   \n",
       "2            2   Ithergue48   24   Male       92   \n",
       "\n",
       "                                   Item Name  Price  \n",
       "0  Extraction, Quickblade Of Trembling Hands   3.53  \n",
       "1                          Frenzied Scimitar   1.56  \n",
       "2                               Final Critic   4.88  "
      ]
     },
     "execution_count": 134,
     "metadata": {},
     "output_type": "execute_result"
    }
   ],
   "source": [
    "purchase_data.head(3)"
   ]
  },
  {
   "cell_type": "code",
   "execution_count": 135,
   "metadata": {},
   "outputs": [
    {
     "name": "stdout",
     "output_type": "stream",
     "text": [
      "Index(['Purchase ID', 'SN', 'Age', 'Gender', 'Item ID', 'Item Name', 'Price'], dtype='object')\n"
     ]
    }
   ],
   "source": [
    "print(purchase_data.columns)"
   ]
  },
  {
   "cell_type": "code",
   "execution_count": 162,
   "metadata": {},
   "outputs": [
    {
     "data": {
      "text/plain": [
       "780"
      ]
     },
     "execution_count": 162,
     "metadata": {},
     "output_type": "execute_result"
    }
   ],
   "source": [
    "#No. of rows \n",
    "count_row = purchase_data.shape[0]\n",
    "count_row"
   ]
  },
  {
   "cell_type": "code",
   "execution_count": 137,
   "metadata": {},
   "outputs": [],
   "source": [
    "## Player count \n",
    "\n",
    "#1.Total Players"
   ]
  },
  {
   "cell_type": "code",
   "execution_count": 138,
   "metadata": {},
   "outputs": [
    {
     "data": {
      "text/html": [
       "<div>\n",
       "<style scoped>\n",
       "    .dataframe tbody tr th:only-of-type {\n",
       "        vertical-align: middle;\n",
       "    }\n",
       "\n",
       "    .dataframe tbody tr th {\n",
       "        vertical-align: top;\n",
       "    }\n",
       "\n",
       "    .dataframe thead th {\n",
       "        text-align: right;\n",
       "    }\n",
       "</style>\n",
       "<table border=\"1\" class=\"dataframe\">\n",
       "  <thead>\n",
       "    <tr style=\"text-align: right;\">\n",
       "      <th></th>\n",
       "      <th>Total Players</th>\n",
       "    </tr>\n",
       "  </thead>\n",
       "  <tbody>\n",
       "    <tr>\n",
       "      <th>0</th>\n",
       "      <td>576</td>\n",
       "    </tr>\n",
       "  </tbody>\n",
       "</table>\n",
       "</div>"
      ],
      "text/plain": [
       "   Total Players\n",
       "0            576"
      ]
     },
     "execution_count": 138,
     "metadata": {},
     "output_type": "execute_result"
    }
   ],
   "source": [
    "total_players = len(purchase_data[\"SN\"].value_counts())\n",
    "\n",
    "player_count = pd.DataFrame({\"Total Players\":[total_players]})\n",
    "(player_count)"
   ]
  },
  {
   "cell_type": "code",
   "execution_count": 139,
   "metadata": {},
   "outputs": [],
   "source": [
    "## Purchasing Analysis (Total)\n",
    "\n",
    "#1.No. of unique items\n",
    "#2.Average Price\n",
    "#3.Number of purchases\n",
    "#4.Total Revenue "
   ]
  },
  {
   "cell_type": "code",
   "execution_count": 154,
   "metadata": {},
   "outputs": [],
   "source": [
    "no_of_unique_items =len ((purchase_data['Item ID']).unique())\n",
    "#(no_of_unique_items)\n"
   ]
  },
  {
   "cell_type": "code",
   "execution_count": 155,
   "metadata": {},
   "outputs": [],
   "source": [
    "average_price = ((purchase_data['Price']).mean())\n",
    "#(average_price)"
   ]
  },
  {
   "cell_type": "code",
   "execution_count": 156,
   "metadata": {},
   "outputs": [],
   "source": [
    "number_of_purchases = len(purchase_data[\"Purchase ID\"].value_counts())\n",
    "#(number_of_purchases)\n"
   ]
  },
  {
   "cell_type": "code",
   "execution_count": 157,
   "metadata": {},
   "outputs": [],
   "source": [
    "total_revenue = (purchase_data[\"Price\"]).sum()\n",
    "#(total_revenue)"
   ]
  },
  {
   "cell_type": "code",
   "execution_count": 182,
   "metadata": {},
   "outputs": [
    {
     "data": {
      "text/html": [
       "<div>\n",
       "<style scoped>\n",
       "    .dataframe tbody tr th:only-of-type {\n",
       "        vertical-align: middle;\n",
       "    }\n",
       "\n",
       "    .dataframe tbody tr th {\n",
       "        vertical-align: top;\n",
       "    }\n",
       "\n",
       "    .dataframe thead th {\n",
       "        text-align: right;\n",
       "    }\n",
       "</style>\n",
       "<table border=\"1\" class=\"dataframe\">\n",
       "  <thead>\n",
       "    <tr style=\"text-align: right;\">\n",
       "      <th></th>\n",
       "      <th>No. of Unique Items</th>\n",
       "      <th>Average Price</th>\n",
       "      <th>No. of Purchases</th>\n",
       "      <th>Total Revenue</th>\n",
       "    </tr>\n",
       "  </thead>\n",
       "  <tbody>\n",
       "    <tr>\n",
       "      <th>0</th>\n",
       "      <td>179</td>\n",
       "      <td>3.050987</td>\n",
       "      <td>780</td>\n",
       "      <td>2379.77</td>\n",
       "    </tr>\n",
       "  </tbody>\n",
       "</table>\n",
       "</div>"
      ],
      "text/plain": [
       "   No. of Unique Items  Average Price  No. of Purchases  Total Revenue\n",
       "0                  179       3.050987               780        2379.77"
      ]
     },
     "execution_count": 182,
     "metadata": {},
     "output_type": "execute_result"
    }
   ],
   "source": [
    "summary_df = pd.DataFrame({\"No. of Unique Items\":[no_of_unique_items], \n",
    "                           \"Average Price\":[average_price], \n",
    "                           \"No. of Purchases\":[number_of_purchases], \n",
    "                           \"Total Revenue\":[total_revenue]})\n",
    "summary_df.style.format({'Average Price':\"${:,.2f}\",\n",
    "                         'Total Revenue': '${:,.2f}'})\n",
    "(summary_df)"
   ]
  },
  {
   "cell_type": "code",
   "execution_count": null,
   "metadata": {},
   "outputs": [],
   "source": [
    "## Gender Demographics \n",
    "\n",
    "#1.Percentage and count of Male players \n",
    "#2.Percentage and count of Female players \n",
    "#3.Percentage and count of Other/Non-Disclosed"
   ]
  },
  {
   "cell_type": "code",
   "execution_count": 174,
   "metadata": {},
   "outputs": [],
   "source": [
    "gender_stats = purchase_data.groupby(\"Gender\")\n"
   ]
  },
  {
   "cell_type": "code",
   "execution_count": 166,
   "metadata": {},
   "outputs": [],
   "source": [
    "total_gender_count = gender_stats.nunique()[\"SN\"]"
   ]
  },
  {
   "cell_type": "code",
   "execution_count": 167,
   "metadata": {},
   "outputs": [],
   "source": [
    "percentage_of_players = total_gender_count / total_players * 100"
   ]
  },
  {
   "cell_type": "code",
   "execution_count": 181,
   "metadata": {},
   "outputs": [
    {
     "data": {
      "text/html": [
       "<style  type=\"text/css\" >\n",
       "</style><table id=\"T_381eaeb4_9e38_11eb_8d2e_8c8590cfe819\" ><thead>    <tr>        <th class=\"blank level0\" ></th>        <th class=\"col_heading level0 col0\" >Percentage of Players</th>        <th class=\"col_heading level0 col1\" >Total Count</th>    </tr></thead><tbody>\n",
       "                <tr>\n",
       "                        <th id=\"T_381eaeb4_9e38_11eb_8d2e_8c8590cfe819level0_row0\" class=\"row_heading level0 row0\" >Male</th>\n",
       "                        <td id=\"T_381eaeb4_9e38_11eb_8d2e_8c8590cfe819row0_col0\" class=\"data row0 col0\" >84.03</td>\n",
       "                        <td id=\"T_381eaeb4_9e38_11eb_8d2e_8c8590cfe819row0_col1\" class=\"data row0 col1\" >484</td>\n",
       "            </tr>\n",
       "            <tr>\n",
       "                        <th id=\"T_381eaeb4_9e38_11eb_8d2e_8c8590cfe819level0_row1\" class=\"row_heading level0 row1\" >Female</th>\n",
       "                        <td id=\"T_381eaeb4_9e38_11eb_8d2e_8c8590cfe819row1_col0\" class=\"data row1 col0\" >14.06</td>\n",
       "                        <td id=\"T_381eaeb4_9e38_11eb_8d2e_8c8590cfe819row1_col1\" class=\"data row1 col1\" >81</td>\n",
       "            </tr>\n",
       "            <tr>\n",
       "                        <th id=\"T_381eaeb4_9e38_11eb_8d2e_8c8590cfe819level0_row2\" class=\"row_heading level0 row2\" >Other / Non-Disclosed</th>\n",
       "                        <td id=\"T_381eaeb4_9e38_11eb_8d2e_8c8590cfe819row2_col0\" class=\"data row2 col0\" >1.91</td>\n",
       "                        <td id=\"T_381eaeb4_9e38_11eb_8d2e_8c8590cfe819row2_col1\" class=\"data row2 col1\" >11</td>\n",
       "            </tr>\n",
       "    </tbody></table>"
      ],
      "text/plain": [
       "<pandas.io.formats.style.Styler at 0x7fc2749d44c0>"
      ]
     },
     "execution_count": 181,
     "metadata": {},
     "output_type": "execute_result"
    }
   ],
   "source": [
    "gender_demo = pd.DataFrame({\"Percentage of Players\": percentage_of_players, \n",
    "                            \"Total Count\": total_gender_count})\n",
    "gender_demo.index.name = None\n",
    "gender_demo.sort_values([\"Total Count\"], ascending= False).style.format({\"Percentage of Players\":\"{:.2f}\"})\n"
   ]
  },
  {
   "cell_type": "code",
   "execution_count": null,
   "metadata": {},
   "outputs": [],
   "source": [
    "## Purchasing Analysis \n",
    "\n",
    "#(Gender)\n",
    "\n",
    "#1.Purchase Count\n",
    "#2.Average Purchase Price\n",
    "#3.Total Purchase Value\n",
    "#4.Average Purchase Total per Person by Gender"
   ]
  },
  {
   "cell_type": "code",
   "execution_count": 176,
   "metadata": {},
   "outputs": [],
   "source": [
    "purchase_count = gender_stats[\"Purchase ID\"].count()"
   ]
  },
  {
   "cell_type": "code",
   "execution_count": 177,
   "metadata": {},
   "outputs": [],
   "source": [
    "avg_purchase_price = gender_stats[\"Price\"].mean()"
   ]
  },
  {
   "cell_type": "code",
   "execution_count": 178,
   "metadata": {},
   "outputs": [],
   "source": [
    "avg_purchase_total = gender_stats[\"Price\"].sum()"
   ]
  },
  {
   "cell_type": "code",
   "execution_count": 180,
   "metadata": {},
   "outputs": [],
   "source": [
    "avg_purchase_per_person = avg_purchase_total/total_gender_count"
   ]
  },
  {
   "cell_type": "code",
   "execution_count": 185,
   "metadata": {},
   "outputs": [
    {
     "data": {
      "text/html": [
       "<style  type=\"text/css\" >\n",
       "</style><table id=\"T_7fed0e48_9e38_11eb_8d2e_8c8590cfe819\" ><thead>    <tr>        <th class=\"blank level0\" ></th>        <th class=\"col_heading level0 col0\" >Purchase Count</th>        <th class=\"col_heading level0 col1\" >Average Purchase Price</th>        <th class=\"col_heading level0 col2\" >Average Purchase Value</th>        <th class=\"col_heading level0 col3\" >Avg Purchase Total per Person</th>    </tr>    <tr>        <th class=\"index_name level0\" >Gender</th>        <th class=\"blank\" ></th>        <th class=\"blank\" ></th>        <th class=\"blank\" ></th>        <th class=\"blank\" ></th>    </tr></thead><tbody>\n",
       "                <tr>\n",
       "                        <th id=\"T_7fed0e48_9e38_11eb_8d2e_8c8590cfe819level0_row0\" class=\"row_heading level0 row0\" >Female</th>\n",
       "                        <td id=\"T_7fed0e48_9e38_11eb_8d2e_8c8590cfe819row0_col0\" class=\"data row0 col0\" >113</td>\n",
       "                        <td id=\"T_7fed0e48_9e38_11eb_8d2e_8c8590cfe819row0_col1\" class=\"data row0 col1\" >$3.20</td>\n",
       "                        <td id=\"T_7fed0e48_9e38_11eb_8d2e_8c8590cfe819row0_col2\" class=\"data row0 col2\" >$361.94</td>\n",
       "                        <td id=\"T_7fed0e48_9e38_11eb_8d2e_8c8590cfe819row0_col3\" class=\"data row0 col3\" >$4.47</td>\n",
       "            </tr>\n",
       "            <tr>\n",
       "                        <th id=\"T_7fed0e48_9e38_11eb_8d2e_8c8590cfe819level0_row1\" class=\"row_heading level0 row1\" >Male</th>\n",
       "                        <td id=\"T_7fed0e48_9e38_11eb_8d2e_8c8590cfe819row1_col0\" class=\"data row1 col0\" >652</td>\n",
       "                        <td id=\"T_7fed0e48_9e38_11eb_8d2e_8c8590cfe819row1_col1\" class=\"data row1 col1\" >$3.02</td>\n",
       "                        <td id=\"T_7fed0e48_9e38_11eb_8d2e_8c8590cfe819row1_col2\" class=\"data row1 col2\" >$1,967.64</td>\n",
       "                        <td id=\"T_7fed0e48_9e38_11eb_8d2e_8c8590cfe819row1_col3\" class=\"data row1 col3\" >$4.07</td>\n",
       "            </tr>\n",
       "            <tr>\n",
       "                        <th id=\"T_7fed0e48_9e38_11eb_8d2e_8c8590cfe819level0_row2\" class=\"row_heading level0 row2\" >Other / Non-Disclosed</th>\n",
       "                        <td id=\"T_7fed0e48_9e38_11eb_8d2e_8c8590cfe819row2_col0\" class=\"data row2 col0\" >15</td>\n",
       "                        <td id=\"T_7fed0e48_9e38_11eb_8d2e_8c8590cfe819row2_col1\" class=\"data row2 col1\" >$3.35</td>\n",
       "                        <td id=\"T_7fed0e48_9e38_11eb_8d2e_8c8590cfe819row2_col2\" class=\"data row2 col2\" >$50.19</td>\n",
       "                        <td id=\"T_7fed0e48_9e38_11eb_8d2e_8c8590cfe819row2_col3\" class=\"data row2 col3\" >$4.56</td>\n",
       "            </tr>\n",
       "    </tbody></table>"
      ],
      "text/plain": [
       "<pandas.io.formats.style.Styler at 0x7fc274a3ee50>"
      ]
     },
     "execution_count": 185,
     "metadata": {},
     "output_type": "execute_result"
    }
   ],
   "source": [
    "gender_demographics = pd.DataFrame({\"Purchase Count\": purchase_count, \n",
    "                                    \"Average Purchase Price\": avg_purchase_price,\n",
    "                                    \"Average Purchase Value\":avg_purchase_total,\n",
    "                                    \"Avg Purchase Total per Person\": avg_purchase_per_person})\n",
    "gender_demographics.index.name = \"Gender\"\n",
    "gender_demographics.style.format({\"Average Purchase Value\":\"${:,.2f}\",\n",
    "                                  \"Average Purchase Price\":\"${:,.2f}\",\n",
    "                                  \"Avg Purchase Total per Person\":\"${:,.2f}\"})"
   ]
  },
  {
   "cell_type": "code",
   "execution_count": null,
   "metadata": {},
   "outputs": [],
   "source": [
    "## Age Demographics \n",
    "\n",
    "#Broken into bins of 4 years (i.e. <10, 10-14, 15-19, etc.)\n",
    "\n",
    "#1.Percentage of Players\n",
    "#2.Total Count"
   ]
  },
  {
   "cell_type": "code",
   "execution_count": 294,
   "metadata": {},
   "outputs": [],
   "source": [
    "age_bins = [0, 9.99, 14.99, 19.99, 24.99, 29.99, 34.99, 39.99, 99999]\n",
    "group_names = [\"<10\", \"10-14\", \"15-19\", \"20-24\", \"25-29\", \"30-34\", \"35-39\", \"40+\"]"
   ]
  },
  {
   "cell_type": "code",
   "execution_count": 301,
   "metadata": {},
   "outputs": [],
   "source": [
    "#purchase_data[\"Age\"].unique()"
   ]
  },
  {
   "cell_type": "code",
   "execution_count": 296,
   "metadata": {},
   "outputs": [],
   "source": [
    "purchase_data[\"Age Group\"] = pd.cut(purchase_data[\"Age\"],age_bins, labels=group_names)\n",
    "#purchase_data"
   ]
  },
  {
   "cell_type": "code",
   "execution_count": 297,
   "metadata": {},
   "outputs": [],
   "source": [
    "age_grouped = purchase_data.groupby(\"Age Group\")"
   ]
  },
  {
   "cell_type": "code",
   "execution_count": 298,
   "metadata": {},
   "outputs": [],
   "source": [
    "total_count_age = age_grouped[\"SN\"].nunique()"
   ]
  },
  {
   "cell_type": "code",
   "execution_count": 299,
   "metadata": {},
   "outputs": [],
   "source": [
    "percentage_by_age = (total_count_age/total_players) * 100"
   ]
  },
  {
   "cell_type": "code",
   "execution_count": 300,
   "metadata": {},
   "outputs": [
    {
     "data": {
      "text/html": [
       "<style  type=\"text/css\" >\n",
       "</style><table id=\"T_0b1b0108_9e40_11eb_8d2e_8c8590cfe819\" ><thead>    <tr>        <th class=\"blank level0\" ></th>        <th class=\"col_heading level0 col0\" >Percentage of Players</th>        <th class=\"col_heading level0 col1\" >Total Count</th>    </tr></thead><tbody>\n",
       "                <tr>\n",
       "                        <th id=\"T_0b1b0108_9e40_11eb_8d2e_8c8590cfe819level0_row0\" class=\"row_heading level0 row0\" ><10</th>\n",
       "                        <td id=\"T_0b1b0108_9e40_11eb_8d2e_8c8590cfe819row0_col0\" class=\"data row0 col0\" >2.95</td>\n",
       "                        <td id=\"T_0b1b0108_9e40_11eb_8d2e_8c8590cfe819row0_col1\" class=\"data row0 col1\" >17</td>\n",
       "            </tr>\n",
       "            <tr>\n",
       "                        <th id=\"T_0b1b0108_9e40_11eb_8d2e_8c8590cfe819level0_row1\" class=\"row_heading level0 row1\" >10-14</th>\n",
       "                        <td id=\"T_0b1b0108_9e40_11eb_8d2e_8c8590cfe819row1_col0\" class=\"data row1 col0\" >3.82</td>\n",
       "                        <td id=\"T_0b1b0108_9e40_11eb_8d2e_8c8590cfe819row1_col1\" class=\"data row1 col1\" >22</td>\n",
       "            </tr>\n",
       "            <tr>\n",
       "                        <th id=\"T_0b1b0108_9e40_11eb_8d2e_8c8590cfe819level0_row2\" class=\"row_heading level0 row2\" >15-19</th>\n",
       "                        <td id=\"T_0b1b0108_9e40_11eb_8d2e_8c8590cfe819row2_col0\" class=\"data row2 col0\" >18.58</td>\n",
       "                        <td id=\"T_0b1b0108_9e40_11eb_8d2e_8c8590cfe819row2_col1\" class=\"data row2 col1\" >107</td>\n",
       "            </tr>\n",
       "            <tr>\n",
       "                        <th id=\"T_0b1b0108_9e40_11eb_8d2e_8c8590cfe819level0_row3\" class=\"row_heading level0 row3\" >20-24</th>\n",
       "                        <td id=\"T_0b1b0108_9e40_11eb_8d2e_8c8590cfe819row3_col0\" class=\"data row3 col0\" >44.79</td>\n",
       "                        <td id=\"T_0b1b0108_9e40_11eb_8d2e_8c8590cfe819row3_col1\" class=\"data row3 col1\" >258</td>\n",
       "            </tr>\n",
       "            <tr>\n",
       "                        <th id=\"T_0b1b0108_9e40_11eb_8d2e_8c8590cfe819level0_row4\" class=\"row_heading level0 row4\" >25-29</th>\n",
       "                        <td id=\"T_0b1b0108_9e40_11eb_8d2e_8c8590cfe819row4_col0\" class=\"data row4 col0\" >13.37</td>\n",
       "                        <td id=\"T_0b1b0108_9e40_11eb_8d2e_8c8590cfe819row4_col1\" class=\"data row4 col1\" >77</td>\n",
       "            </tr>\n",
       "            <tr>\n",
       "                        <th id=\"T_0b1b0108_9e40_11eb_8d2e_8c8590cfe819level0_row5\" class=\"row_heading level0 row5\" >30-34</th>\n",
       "                        <td id=\"T_0b1b0108_9e40_11eb_8d2e_8c8590cfe819row5_col0\" class=\"data row5 col0\" >9.03</td>\n",
       "                        <td id=\"T_0b1b0108_9e40_11eb_8d2e_8c8590cfe819row5_col1\" class=\"data row5 col1\" >52</td>\n",
       "            </tr>\n",
       "            <tr>\n",
       "                        <th id=\"T_0b1b0108_9e40_11eb_8d2e_8c8590cfe819level0_row6\" class=\"row_heading level0 row6\" >35-39</th>\n",
       "                        <td id=\"T_0b1b0108_9e40_11eb_8d2e_8c8590cfe819row6_col0\" class=\"data row6 col0\" >5.38</td>\n",
       "                        <td id=\"T_0b1b0108_9e40_11eb_8d2e_8c8590cfe819row6_col1\" class=\"data row6 col1\" >31</td>\n",
       "            </tr>\n",
       "            <tr>\n",
       "                        <th id=\"T_0b1b0108_9e40_11eb_8d2e_8c8590cfe819level0_row7\" class=\"row_heading level0 row7\" >40+</th>\n",
       "                        <td id=\"T_0b1b0108_9e40_11eb_8d2e_8c8590cfe819row7_col0\" class=\"data row7 col0\" >2.08</td>\n",
       "                        <td id=\"T_0b1b0108_9e40_11eb_8d2e_8c8590cfe819row7_col1\" class=\"data row7 col1\" >12</td>\n",
       "            </tr>\n",
       "    </tbody></table>"
      ],
      "text/plain": [
       "<pandas.io.formats.style.Styler at 0x7fc274a8f0d0>"
      ]
     },
     "execution_count": 300,
     "metadata": {},
     "output_type": "execute_result"
    }
   ],
   "source": [
    "age_demographics = pd.DataFrame({\"Percentage of Players\": percentage_by_age, \n",
    "                                 \"Total Count\": total_count_age})\n",
    "age_demographics.index.name = None\n",
    "age_demographics.style.format({\"Percentage of Players\":\"{:,.2f}\"})"
   ]
  },
  {
   "cell_type": "code",
   "execution_count": 259,
   "metadata": {},
   "outputs": [],
   "source": [
    "## Purchasing Anlaysis (Age)\n",
    "\n",
    "#Broken into bins of 4 years (i.e. <10, 10-14, 15-19, etc.)\n",
    "\n",
    "#1.Purchase Count\n",
    "#2.Average Purchase Price\n",
    "#3.Total Purchase Value\n",
    "#4.Average Purchase Total per Person by Age Group"
   ]
  },
  {
   "cell_type": "code",
   "execution_count": 235,
   "metadata": {},
   "outputs": [],
   "source": [
    "purchase_count_age = age_grouped[\"Purchase ID\"].count()"
   ]
  },
  {
   "cell_type": "code",
   "execution_count": 236,
   "metadata": {},
   "outputs": [],
   "source": [
    "avg_purchase_price_age = age_grouped[\"Price\"].mean()"
   ]
  },
  {
   "cell_type": "code",
   "execution_count": 237,
   "metadata": {},
   "outputs": [],
   "source": [
    "total_purchase_value = age_grouped[\"Price\"].sum()"
   ]
  },
  {
   "cell_type": "code",
   "execution_count": 238,
   "metadata": {},
   "outputs": [],
   "source": [
    "avg_purchase_per_person_age = total_purchase_value/total_count_age"
   ]
  },
  {
   "cell_type": "code",
   "execution_count": 240,
   "metadata": {},
   "outputs": [
    {
     "data": {
      "text/html": [
       "<style  type=\"text/css\" >\n",
       "</style><table id=\"T_fb18b106_9e3a_11eb_8d2e_8c8590cfe819\" ><thead>    <tr>        <th class=\"blank level0\" ></th>        <th class=\"col_heading level0 col0\" >Purchase Count</th>        <th class=\"col_heading level0 col1\" >Average Purchase Price</th>        <th class=\"col_heading level0 col2\" >Total Purchase Value</th>        <th class=\"col_heading level0 col3\" >Average Purchase Total per Person</th>    </tr></thead><tbody>\n",
       "                <tr>\n",
       "                        <th id=\"T_fb18b106_9e3a_11eb_8d2e_8c8590cfe819level0_row0\" class=\"row_heading level0 row0\" ><10</th>\n",
       "                        <td id=\"T_fb18b106_9e3a_11eb_8d2e_8c8590cfe819row0_col0\" class=\"data row0 col0\" >23</td>\n",
       "                        <td id=\"T_fb18b106_9e3a_11eb_8d2e_8c8590cfe819row0_col1\" class=\"data row0 col1\" >$3.35</td>\n",
       "                        <td id=\"T_fb18b106_9e3a_11eb_8d2e_8c8590cfe819row0_col2\" class=\"data row0 col2\" >$77.13</td>\n",
       "                        <td id=\"T_fb18b106_9e3a_11eb_8d2e_8c8590cfe819row0_col3\" class=\"data row0 col3\" >$4.54</td>\n",
       "            </tr>\n",
       "            <tr>\n",
       "                        <th id=\"T_fb18b106_9e3a_11eb_8d2e_8c8590cfe819level0_row1\" class=\"row_heading level0 row1\" >10-14</th>\n",
       "                        <td id=\"T_fb18b106_9e3a_11eb_8d2e_8c8590cfe819row1_col0\" class=\"data row1 col0\" >26</td>\n",
       "                        <td id=\"T_fb18b106_9e3a_11eb_8d2e_8c8590cfe819row1_col1\" class=\"data row1 col1\" >$2.92</td>\n",
       "                        <td id=\"T_fb18b106_9e3a_11eb_8d2e_8c8590cfe819row1_col2\" class=\"data row1 col2\" >$75.87</td>\n",
       "                        <td id=\"T_fb18b106_9e3a_11eb_8d2e_8c8590cfe819row1_col3\" class=\"data row1 col3\" >$3.79</td>\n",
       "            </tr>\n",
       "            <tr>\n",
       "                        <th id=\"T_fb18b106_9e3a_11eb_8d2e_8c8590cfe819level0_row2\" class=\"row_heading level0 row2\" >15-19</th>\n",
       "                        <td id=\"T_fb18b106_9e3a_11eb_8d2e_8c8590cfe819row2_col0\" class=\"data row2 col0\" >89</td>\n",
       "                        <td id=\"T_fb18b106_9e3a_11eb_8d2e_8c8590cfe819row2_col1\" class=\"data row2 col1\" >$3.01</td>\n",
       "                        <td id=\"T_fb18b106_9e3a_11eb_8d2e_8c8590cfe819row2_col2\" class=\"data row2 col2\" >$267.60</td>\n",
       "                        <td id=\"T_fb18b106_9e3a_11eb_8d2e_8c8590cfe819row2_col3\" class=\"data row2 col3\" >$3.77</td>\n",
       "            </tr>\n",
       "            <tr>\n",
       "                        <th id=\"T_fb18b106_9e3a_11eb_8d2e_8c8590cfe819level0_row3\" class=\"row_heading level0 row3\" >20-24</th>\n",
       "                        <td id=\"T_fb18b106_9e3a_11eb_8d2e_8c8590cfe819row3_col0\" class=\"data row3 col0\" >210</td>\n",
       "                        <td id=\"T_fb18b106_9e3a_11eb_8d2e_8c8590cfe819row3_col1\" class=\"data row3 col1\" >$3.08</td>\n",
       "                        <td id=\"T_fb18b106_9e3a_11eb_8d2e_8c8590cfe819row3_col2\" class=\"data row3 col2\" >$647.26</td>\n",
       "                        <td id=\"T_fb18b106_9e3a_11eb_8d2e_8c8590cfe819row3_col3\" class=\"data row3 col3\" >$4.32</td>\n",
       "            </tr>\n",
       "            <tr>\n",
       "                        <th id=\"T_fb18b106_9e3a_11eb_8d2e_8c8590cfe819level0_row4\" class=\"row_heading level0 row4\" >25-29</th>\n",
       "                        <td id=\"T_fb18b106_9e3a_11eb_8d2e_8c8590cfe819row4_col0\" class=\"data row4 col0\" >263</td>\n",
       "                        <td id=\"T_fb18b106_9e3a_11eb_8d2e_8c8590cfe819row4_col1\" class=\"data row4 col1\" >$3.05</td>\n",
       "                        <td id=\"T_fb18b106_9e3a_11eb_8d2e_8c8590cfe819row4_col2\" class=\"data row4 col2\" >$800.90</td>\n",
       "                        <td id=\"T_fb18b106_9e3a_11eb_8d2e_8c8590cfe819row4_col3\" class=\"data row4 col3\" >$4.24</td>\n",
       "            </tr>\n",
       "            <tr>\n",
       "                        <th id=\"T_fb18b106_9e3a_11eb_8d2e_8c8590cfe819level0_row5\" class=\"row_heading level0 row5\" >30-34</th>\n",
       "                        <td id=\"T_fb18b106_9e3a_11eb_8d2e_8c8590cfe819row5_col0\" class=\"data row5 col0\" >42</td>\n",
       "                        <td id=\"T_fb18b106_9e3a_11eb_8d2e_8c8590cfe819row5_col1\" class=\"data row5 col1\" >$2.65</td>\n",
       "                        <td id=\"T_fb18b106_9e3a_11eb_8d2e_8c8590cfe819row5_col2\" class=\"data row5 col2\" >$111.10</td>\n",
       "                        <td id=\"T_fb18b106_9e3a_11eb_8d2e_8c8590cfe819row5_col3\" class=\"data row5 col3\" >$3.27</td>\n",
       "            </tr>\n",
       "            <tr>\n",
       "                        <th id=\"T_fb18b106_9e3a_11eb_8d2e_8c8590cfe819level0_row6\" class=\"row_heading level0 row6\" >35-39</th>\n",
       "                        <td id=\"T_fb18b106_9e3a_11eb_8d2e_8c8590cfe819row6_col0\" class=\"data row6 col0\" >64</td>\n",
       "                        <td id=\"T_fb18b106_9e3a_11eb_8d2e_8c8590cfe819row6_col1\" class=\"data row6 col1\" >$3.00</td>\n",
       "                        <td id=\"T_fb18b106_9e3a_11eb_8d2e_8c8590cfe819row6_col2\" class=\"data row6 col2\" >$191.87</td>\n",
       "                        <td id=\"T_fb18b106_9e3a_11eb_8d2e_8c8590cfe819row6_col3\" class=\"data row6 col3\" >$4.26</td>\n",
       "            </tr>\n",
       "            <tr>\n",
       "                        <th id=\"T_fb18b106_9e3a_11eb_8d2e_8c8590cfe819level0_row7\" class=\"row_heading level0 row7\" >40+</th>\n",
       "                        <td id=\"T_fb18b106_9e3a_11eb_8d2e_8c8590cfe819row7_col0\" class=\"data row7 col0\" >63</td>\n",
       "                        <td id=\"T_fb18b106_9e3a_11eb_8d2e_8c8590cfe819row7_col1\" class=\"data row7 col1\" >$3.30</td>\n",
       "                        <td id=\"T_fb18b106_9e3a_11eb_8d2e_8c8590cfe819row7_col2\" class=\"data row7 col2\" >$208.04</td>\n",
       "                        <td id=\"T_fb18b106_9e3a_11eb_8d2e_8c8590cfe819row7_col3\" class=\"data row7 col3\" >$4.16</td>\n",
       "            </tr>\n",
       "    </tbody></table>"
      ],
      "text/plain": [
       "<pandas.io.formats.style.Styler at 0x7fc2749d4df0>"
      ]
     },
     "execution_count": 240,
     "metadata": {},
     "output_type": "execute_result"
    }
   ],
   "source": [
    "age_demographics = pd.DataFrame({\"Purchase Count\": purchase_count_age,\n",
    "                                 \"Average Purchase Price\": avg_purchase_price_age,\n",
    "                                 \"Total Purchase Value\":total_purchase_value,\n",
    "                                 \"Average Purchase Total per Person\": avg_purchase_per_person_age})\n",
    "age_demographics.index.name = None\n",
    "age_demographics.style.format({\"Average Purchase Price\":\"${:,.2f}\",\n",
    "                               \"Total Purchase Value\":\"${:,.2f}\",\n",
    "                               \"Average Purchase Total per Person\":\"${:,.2f}\"})"
   ]
  },
  {
   "cell_type": "code",
   "execution_count": 260,
   "metadata": {},
   "outputs": [],
   "source": [
    "## Top Spenders \n",
    "\n",
    "#Identify the the top 5 spenders in the game by total purchase value, then list (in a table):\n",
    "\n",
    "#SN(screen name)\n",
    "\n",
    "#1.Purchase Count\n",
    "#2.Average Purchase Price\n",
    "#3.Total Purchase Value\n"
   ]
  },
  {
   "cell_type": "code",
   "execution_count": 261,
   "metadata": {},
   "outputs": [],
   "source": [
    "spender_stats = purchase_data.groupby(\"SN\")"
   ]
  },
  {
   "cell_type": "code",
   "execution_count": 263,
   "metadata": {},
   "outputs": [],
   "source": [
    "purchase_count_spender = spender_stats[\"Purchase ID\"].count()"
   ]
  },
  {
   "cell_type": "code",
   "execution_count": 264,
   "metadata": {},
   "outputs": [],
   "source": [
    "avg_purchase_price_spender = spender_stats[\"Price\"].mean()"
   ]
  },
  {
   "cell_type": "code",
   "execution_count": 265,
   "metadata": {},
   "outputs": [],
   "source": [
    "purchase_total_spender = spender_stats[\"Price\"].sum()"
   ]
  },
  {
   "cell_type": "code",
   "execution_count": 266,
   "metadata": {},
   "outputs": [
    {
     "data": {
      "text/html": [
       "<style  type=\"text/css\" >\n",
       "</style><table id=\"T_e8c1d748_9e3b_11eb_8d2e_8c8590cfe819\" ><thead>    <tr>        <th class=\"blank level0\" ></th>        <th class=\"col_heading level0 col0\" >Purchase Count</th>        <th class=\"col_heading level0 col1\" >Average Purchase Price</th>        <th class=\"col_heading level0 col2\" >Total Purchase Value</th>    </tr>    <tr>        <th class=\"index_name level0\" >SN</th>        <th class=\"blank\" ></th>        <th class=\"blank\" ></th>        <th class=\"blank\" ></th>    </tr></thead><tbody>\n",
       "                <tr>\n",
       "                        <th id=\"T_e8c1d748_9e3b_11eb_8d2e_8c8590cfe819level0_row0\" class=\"row_heading level0 row0\" >Lisosia93</th>\n",
       "                        <td id=\"T_e8c1d748_9e3b_11eb_8d2e_8c8590cfe819row0_col0\" class=\"data row0 col0\" >5</td>\n",
       "                        <td id=\"T_e8c1d748_9e3b_11eb_8d2e_8c8590cfe819row0_col1\" class=\"data row0 col1\" >$3.79</td>\n",
       "                        <td id=\"T_e8c1d748_9e3b_11eb_8d2e_8c8590cfe819row0_col2\" class=\"data row0 col2\" >$18.96</td>\n",
       "            </tr>\n",
       "            <tr>\n",
       "                        <th id=\"T_e8c1d748_9e3b_11eb_8d2e_8c8590cfe819level0_row1\" class=\"row_heading level0 row1\" >Idastidru52</th>\n",
       "                        <td id=\"T_e8c1d748_9e3b_11eb_8d2e_8c8590cfe819row1_col0\" class=\"data row1 col0\" >4</td>\n",
       "                        <td id=\"T_e8c1d748_9e3b_11eb_8d2e_8c8590cfe819row1_col1\" class=\"data row1 col1\" >$3.86</td>\n",
       "                        <td id=\"T_e8c1d748_9e3b_11eb_8d2e_8c8590cfe819row1_col2\" class=\"data row1 col2\" >$15.45</td>\n",
       "            </tr>\n",
       "            <tr>\n",
       "                        <th id=\"T_e8c1d748_9e3b_11eb_8d2e_8c8590cfe819level0_row2\" class=\"row_heading level0 row2\" >Chamjask73</th>\n",
       "                        <td id=\"T_e8c1d748_9e3b_11eb_8d2e_8c8590cfe819row2_col0\" class=\"data row2 col0\" >3</td>\n",
       "                        <td id=\"T_e8c1d748_9e3b_11eb_8d2e_8c8590cfe819row2_col1\" class=\"data row2 col1\" >$4.61</td>\n",
       "                        <td id=\"T_e8c1d748_9e3b_11eb_8d2e_8c8590cfe819row2_col2\" class=\"data row2 col2\" >$13.83</td>\n",
       "            </tr>\n",
       "            <tr>\n",
       "                        <th id=\"T_e8c1d748_9e3b_11eb_8d2e_8c8590cfe819level0_row3\" class=\"row_heading level0 row3\" >Iral74</th>\n",
       "                        <td id=\"T_e8c1d748_9e3b_11eb_8d2e_8c8590cfe819row3_col0\" class=\"data row3 col0\" >4</td>\n",
       "                        <td id=\"T_e8c1d748_9e3b_11eb_8d2e_8c8590cfe819row3_col1\" class=\"data row3 col1\" >$3.40</td>\n",
       "                        <td id=\"T_e8c1d748_9e3b_11eb_8d2e_8c8590cfe819row3_col2\" class=\"data row3 col2\" >$13.62</td>\n",
       "            </tr>\n",
       "            <tr>\n",
       "                        <th id=\"T_e8c1d748_9e3b_11eb_8d2e_8c8590cfe819level0_row4\" class=\"row_heading level0 row4\" >Iskadarya95</th>\n",
       "                        <td id=\"T_e8c1d748_9e3b_11eb_8d2e_8c8590cfe819row4_col0\" class=\"data row4 col0\" >3</td>\n",
       "                        <td id=\"T_e8c1d748_9e3b_11eb_8d2e_8c8590cfe819row4_col1\" class=\"data row4 col1\" >$4.37</td>\n",
       "                        <td id=\"T_e8c1d748_9e3b_11eb_8d2e_8c8590cfe819row4_col2\" class=\"data row4 col2\" >$13.10</td>\n",
       "            </tr>\n",
       "    </tbody></table>"
      ],
      "text/plain": [
       "<pandas.io.formats.style.Styler at 0x7fc277ef1760>"
      ]
     },
     "execution_count": 266,
     "metadata": {},
     "output_type": "execute_result"
    }
   ],
   "source": [
    "top_spenders = pd.DataFrame({\"Purchase Count\": purchase_count_spender,\n",
    "                             \"Average Purchase Price\": avg_purchase_price_spender,\n",
    "                             \"Total Purchase Value\":purchase_total_spender})\n",
    "formatted_spenders = top_spenders.sort_values([\"Total Purchase Value\"], ascending=False).head()\n",
    "formatted_spenders.style.format({\"Average Purchase Total\":\"${:,.2f}\",\n",
    "                                 \"Average Purchase Price\":\"${:,.2f}\", \n",
    "                                 \"Total Purchase Value\":\"${:,.2f}\"})"
   ]
  },
  {
   "cell_type": "code",
   "execution_count": null,
   "metadata": {},
   "outputs": [],
   "source": [
    "## Most Popular Items \n",
    "#Top 5 most popular items by purchase count:\n",
    "\n",
    "#Item ID\n",
    "#Item Name\n",
    "\n",
    "#1.Purchase Count\n",
    "#2.Item Price\n",
    "#3.Total Purchase Value"
   ]
  },
  {
   "cell_type": "code",
   "execution_count": 280,
   "metadata": {},
   "outputs": [],
   "source": [
    "items = purchase_data[[\"Item ID\", \"Item Name\", \"Price\"]]"
   ]
  },
  {
   "cell_type": "code",
   "execution_count": 281,
   "metadata": {},
   "outputs": [],
   "source": [
    "item_stats = items.groupby([\"Item ID\",\"Item Name\"])"
   ]
  },
  {
   "cell_type": "code",
   "execution_count": 282,
   "metadata": {},
   "outputs": [],
   "source": [
    "purchase_item_count= item_stats[\"Price\"].count()"
   ]
  },
  {
   "cell_type": "code",
   "execution_count": 283,
   "metadata": {},
   "outputs": [],
   "source": [
    "purchase_value = (item_stats[\"Price\"].sum())"
   ]
  },
  {
   "cell_type": "code",
   "execution_count": 286,
   "metadata": {},
   "outputs": [],
   "source": [
    "item_price = purchase_value/purchase_item_count"
   ]
  },
  {
   "cell_type": "code",
   "execution_count": 289,
   "metadata": {},
   "outputs": [
    {
     "data": {
      "text/html": [
       "<style  type=\"text/css\" >\n",
       "</style><table id=\"T_696d93cc_9e3d_11eb_8d2e_8c8590cfe819\" ><thead>    <tr>        <th class=\"blank\" ></th>        <th class=\"blank level0\" ></th>        <th class=\"col_heading level0 col0\" >Purchase Count</th>        <th class=\"col_heading level0 col1\" >Item Price</th>        <th class=\"col_heading level0 col2\" >Total Purchase Value</th>    </tr>    <tr>        <th class=\"index_name level0\" >Item ID</th>        <th class=\"index_name level1\" >Item Name</th>        <th class=\"blank\" ></th>        <th class=\"blank\" ></th>        <th class=\"blank\" ></th>    </tr></thead><tbody>\n",
       "                <tr>\n",
       "                        <th id=\"T_696d93cc_9e3d_11eb_8d2e_8c8590cfe819level0_row0\" class=\"row_heading level0 row0\" >92</th>\n",
       "                        <th id=\"T_696d93cc_9e3d_11eb_8d2e_8c8590cfe819level1_row0\" class=\"row_heading level1 row0\" >Final Critic</th>\n",
       "                        <td id=\"T_696d93cc_9e3d_11eb_8d2e_8c8590cfe819row0_col0\" class=\"data row0 col0\" >13</td>\n",
       "                        <td id=\"T_696d93cc_9e3d_11eb_8d2e_8c8590cfe819row0_col1\" class=\"data row0 col1\" >$4.61</td>\n",
       "                        <td id=\"T_696d93cc_9e3d_11eb_8d2e_8c8590cfe819row0_col2\" class=\"data row0 col2\" >$59.99</td>\n",
       "            </tr>\n",
       "            <tr>\n",
       "                        <th id=\"T_696d93cc_9e3d_11eb_8d2e_8c8590cfe819level0_row1\" class=\"row_heading level0 row1\" >178</th>\n",
       "                        <th id=\"T_696d93cc_9e3d_11eb_8d2e_8c8590cfe819level1_row1\" class=\"row_heading level1 row1\" >Oathbreaker, Last Hope of the Breaking Storm</th>\n",
       "                        <td id=\"T_696d93cc_9e3d_11eb_8d2e_8c8590cfe819row1_col0\" class=\"data row1 col0\" >12</td>\n",
       "                        <td id=\"T_696d93cc_9e3d_11eb_8d2e_8c8590cfe819row1_col1\" class=\"data row1 col1\" >$4.23</td>\n",
       "                        <td id=\"T_696d93cc_9e3d_11eb_8d2e_8c8590cfe819row1_col2\" class=\"data row1 col2\" >$50.76</td>\n",
       "            </tr>\n",
       "            <tr>\n",
       "                        <th id=\"T_696d93cc_9e3d_11eb_8d2e_8c8590cfe819level0_row2\" class=\"row_heading level0 row2\" >145</th>\n",
       "                        <th id=\"T_696d93cc_9e3d_11eb_8d2e_8c8590cfe819level1_row2\" class=\"row_heading level1 row2\" >Fiery Glass Crusader</th>\n",
       "                        <td id=\"T_696d93cc_9e3d_11eb_8d2e_8c8590cfe819row2_col0\" class=\"data row2 col0\" >9</td>\n",
       "                        <td id=\"T_696d93cc_9e3d_11eb_8d2e_8c8590cfe819row2_col1\" class=\"data row2 col1\" >$4.58</td>\n",
       "                        <td id=\"T_696d93cc_9e3d_11eb_8d2e_8c8590cfe819row2_col2\" class=\"data row2 col2\" >$41.22</td>\n",
       "            </tr>\n",
       "            <tr>\n",
       "                        <th id=\"T_696d93cc_9e3d_11eb_8d2e_8c8590cfe819level0_row3\" class=\"row_heading level0 row3\" >132</th>\n",
       "                        <th id=\"T_696d93cc_9e3d_11eb_8d2e_8c8590cfe819level1_row3\" class=\"row_heading level1 row3\" >Persuasion</th>\n",
       "                        <td id=\"T_696d93cc_9e3d_11eb_8d2e_8c8590cfe819row3_col0\" class=\"data row3 col0\" >9</td>\n",
       "                        <td id=\"T_696d93cc_9e3d_11eb_8d2e_8c8590cfe819row3_col1\" class=\"data row3 col1\" >$3.22</td>\n",
       "                        <td id=\"T_696d93cc_9e3d_11eb_8d2e_8c8590cfe819row3_col2\" class=\"data row3 col2\" >$28.99</td>\n",
       "            </tr>\n",
       "            <tr>\n",
       "                        <th id=\"T_696d93cc_9e3d_11eb_8d2e_8c8590cfe819level0_row4\" class=\"row_heading level0 row4\" >108</th>\n",
       "                        <th id=\"T_696d93cc_9e3d_11eb_8d2e_8c8590cfe819level1_row4\" class=\"row_heading level1 row4\" >Extraction, Quickblade Of Trembling Hands</th>\n",
       "                        <td id=\"T_696d93cc_9e3d_11eb_8d2e_8c8590cfe819row4_col0\" class=\"data row4 col0\" >9</td>\n",
       "                        <td id=\"T_696d93cc_9e3d_11eb_8d2e_8c8590cfe819row4_col1\" class=\"data row4 col1\" >$3.53</td>\n",
       "                        <td id=\"T_696d93cc_9e3d_11eb_8d2e_8c8590cfe819row4_col2\" class=\"data row4 col2\" >$31.77</td>\n",
       "            </tr>\n",
       "    </tbody></table>"
      ],
      "text/plain": [
       "<pandas.io.formats.style.Styler at 0x7fc274a84a60>"
      ]
     },
     "execution_count": 289,
     "metadata": {},
     "output_type": "execute_result"
    }
   ],
   "source": [
    "most_popular_items = pd.DataFrame({\"Purchase Count\": purchase_item_count, \n",
    "                                   \"Item Price\": item_price,\n",
    "                                   \"Total Purchase Value\":purchase_value})\n",
    "popular_formatted = most_popular_items.sort_values([\"Purchase Count\"], ascending=False).head()\n",
    "popular_formatted.style.format({\"Item Price\":\"${:,.2f}\",\n",
    "                                \"Total Purchase Value\":\"${:,.2f}\"})\n"
   ]
  },
  {
   "cell_type": "code",
   "execution_count": 290,
   "metadata": {},
   "outputs": [],
   "source": [
    "## Most Profitable Items \n",
    "#Top 5 most profitable items by total purchase value:\n",
    "\n",
    "#Item ID\n",
    "#Item Name\n",
    "#1.Purchase Count\n",
    "#2.Item Price\n",
    "#3.Total Purchase Value"
   ]
  },
  {
   "cell_type": "code",
   "execution_count": 292,
   "metadata": {},
   "outputs": [
    {
     "data": {
      "text/html": [
       "<style  type=\"text/css\" >\n",
       "</style><table id=\"T_3d0dda3e_9e3e_11eb_8d2e_8c8590cfe819\" ><thead>    <tr>        <th class=\"blank\" ></th>        <th class=\"blank level0\" ></th>        <th class=\"col_heading level0 col0\" >Purchase Count</th>        <th class=\"col_heading level0 col1\" >Item Price</th>        <th class=\"col_heading level0 col2\" >Total Purchase Value</th>    </tr>    <tr>        <th class=\"index_name level0\" >Item ID</th>        <th class=\"index_name level1\" >Item Name</th>        <th class=\"blank\" ></th>        <th class=\"blank\" ></th>        <th class=\"blank\" ></th>    </tr></thead><tbody>\n",
       "                <tr>\n",
       "                        <th id=\"T_3d0dda3e_9e3e_11eb_8d2e_8c8590cfe819level0_row0\" class=\"row_heading level0 row0\" >92</th>\n",
       "                        <th id=\"T_3d0dda3e_9e3e_11eb_8d2e_8c8590cfe819level1_row0\" class=\"row_heading level1 row0\" >Final Critic</th>\n",
       "                        <td id=\"T_3d0dda3e_9e3e_11eb_8d2e_8c8590cfe819row0_col0\" class=\"data row0 col0\" >13</td>\n",
       "                        <td id=\"T_3d0dda3e_9e3e_11eb_8d2e_8c8590cfe819row0_col1\" class=\"data row0 col1\" >$4.61</td>\n",
       "                        <td id=\"T_3d0dda3e_9e3e_11eb_8d2e_8c8590cfe819row0_col2\" class=\"data row0 col2\" >$59.99</td>\n",
       "            </tr>\n",
       "            <tr>\n",
       "                        <th id=\"T_3d0dda3e_9e3e_11eb_8d2e_8c8590cfe819level0_row1\" class=\"row_heading level0 row1\" >178</th>\n",
       "                        <th id=\"T_3d0dda3e_9e3e_11eb_8d2e_8c8590cfe819level1_row1\" class=\"row_heading level1 row1\" >Oathbreaker, Last Hope of the Breaking Storm</th>\n",
       "                        <td id=\"T_3d0dda3e_9e3e_11eb_8d2e_8c8590cfe819row1_col0\" class=\"data row1 col0\" >12</td>\n",
       "                        <td id=\"T_3d0dda3e_9e3e_11eb_8d2e_8c8590cfe819row1_col1\" class=\"data row1 col1\" >$4.23</td>\n",
       "                        <td id=\"T_3d0dda3e_9e3e_11eb_8d2e_8c8590cfe819row1_col2\" class=\"data row1 col2\" >$50.76</td>\n",
       "            </tr>\n",
       "            <tr>\n",
       "                        <th id=\"T_3d0dda3e_9e3e_11eb_8d2e_8c8590cfe819level0_row2\" class=\"row_heading level0 row2\" >82</th>\n",
       "                        <th id=\"T_3d0dda3e_9e3e_11eb_8d2e_8c8590cfe819level1_row2\" class=\"row_heading level1 row2\" >Nirvana</th>\n",
       "                        <td id=\"T_3d0dda3e_9e3e_11eb_8d2e_8c8590cfe819row2_col0\" class=\"data row2 col0\" >9</td>\n",
       "                        <td id=\"T_3d0dda3e_9e3e_11eb_8d2e_8c8590cfe819row2_col1\" class=\"data row2 col1\" >$4.90</td>\n",
       "                        <td id=\"T_3d0dda3e_9e3e_11eb_8d2e_8c8590cfe819row2_col2\" class=\"data row2 col2\" >$44.10</td>\n",
       "            </tr>\n",
       "            <tr>\n",
       "                        <th id=\"T_3d0dda3e_9e3e_11eb_8d2e_8c8590cfe819level0_row3\" class=\"row_heading level0 row3\" >145</th>\n",
       "                        <th id=\"T_3d0dda3e_9e3e_11eb_8d2e_8c8590cfe819level1_row3\" class=\"row_heading level1 row3\" >Fiery Glass Crusader</th>\n",
       "                        <td id=\"T_3d0dda3e_9e3e_11eb_8d2e_8c8590cfe819row3_col0\" class=\"data row3 col0\" >9</td>\n",
       "                        <td id=\"T_3d0dda3e_9e3e_11eb_8d2e_8c8590cfe819row3_col1\" class=\"data row3 col1\" >$4.58</td>\n",
       "                        <td id=\"T_3d0dda3e_9e3e_11eb_8d2e_8c8590cfe819row3_col2\" class=\"data row3 col2\" >$41.22</td>\n",
       "            </tr>\n",
       "            <tr>\n",
       "                        <th id=\"T_3d0dda3e_9e3e_11eb_8d2e_8c8590cfe819level0_row4\" class=\"row_heading level0 row4\" >103</th>\n",
       "                        <th id=\"T_3d0dda3e_9e3e_11eb_8d2e_8c8590cfe819level1_row4\" class=\"row_heading level1 row4\" >Singed Scalpel</th>\n",
       "                        <td id=\"T_3d0dda3e_9e3e_11eb_8d2e_8c8590cfe819row4_col0\" class=\"data row4 col0\" >8</td>\n",
       "                        <td id=\"T_3d0dda3e_9e3e_11eb_8d2e_8c8590cfe819row4_col1\" class=\"data row4 col1\" >$4.35</td>\n",
       "                        <td id=\"T_3d0dda3e_9e3e_11eb_8d2e_8c8590cfe819row4_col2\" class=\"data row4 col2\" >$34.80</td>\n",
       "            </tr>\n",
       "    </tbody></table>"
      ],
      "text/plain": [
       "<pandas.io.formats.style.Styler at 0x7fc274a84910>"
      ]
     },
     "execution_count": 292,
     "metadata": {},
     "output_type": "execute_result"
    }
   ],
   "source": [
    "popular_formatted = most_popular_items.sort_values([\"Total Purchase Value\"],\n",
    "                                                   ascending=False).head()\n",
    "popular_formatted.style.format({\"Item Price\":\"${:,.2f}\",\n",
    "                                \"Total Purchase Value\":\"${:,.2f}\"})"
   ]
  },
  {
   "cell_type": "code",
   "execution_count": null,
   "metadata": {},
   "outputs": [],
   "source": []
  }
 ],
 "metadata": {
  "kernelspec": {
   "display_name": "Python 3",
   "language": "python",
   "name": "python3"
  },
  "language_info": {
   "codemirror_mode": {
    "name": "ipython",
    "version": 3
   },
   "file_extension": ".py",
   "mimetype": "text/x-python",
   "name": "python",
   "nbconvert_exporter": "python",
   "pygments_lexer": "ipython3",
   "version": "3.8.5"
  }
 },
 "nbformat": 4,
 "nbformat_minor": 4
}
